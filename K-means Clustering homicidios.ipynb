{
 "metadata": {
  "name": ""
 },
 "nbformat": 3,
 "nbformat_minor": 0,
 "worksheets": [
  {
   "cells": [
    {
     "cell_type": "code",
     "collapsed": false,
     "input": [
      "%pylab inline\n",
      "import csv"
     ],
     "language": "python",
     "metadata": {},
     "outputs": [
      {
       "output_type": "stream",
       "stream": "stdout",
       "text": [
        "Populating the interactive namespace from numpy and matplotlib\n"
       ]
      }
     ],
     "prompt_number": 41
    },
    {
     "cell_type": "code",
     "collapsed": false,
     "input": [
      "#Se importa el archivo y se obtiene su forma. \n",
      "#M\u00e9todo basado en el algoritmo descrito en el repositorio de Mar\u00eda Camila Remolina\n",
      "#Datos en archivo de entrada organizados de la siguiente manera:\n",
      "#CODIGO - MUNICIPIO - DEPARTAMENTO - HOMICIDIOS_A\u00d1O - POBLACION_A\u00d1O - TASA_A\u00d1O\n",
      "\n",
      "with open('homicidios.1990.a.2013.csv','rb') as a:\n",
      "    archivo = csv.reader(a)\n",
      "    filas=0\n",
      "    columnas=0\n",
      "    k=0\n",
      "    for f in archivo:\n",
      "        if(k==0):\n",
      "            for c in f:\n",
      "                columnas+=1\n",
      "        filas+=1\n",
      "        k+=1    "
     ],
     "language": "python",
     "metadata": {},
     "outputs": [],
     "prompt_number": 42
    },
    {
     "cell_type": "code",
     "collapsed": false,
     "input": [
      "#Se guardan los datos en una matriz que se pueda manejar f\u00e1cilmente\n",
      "with open('homicidios.1990.a.2013.csv','rb') as a:\n",
      "    archivo = csv.reader(a)\n",
      "    #N\u00famero de dimensiones= n\u00famero de columnas menos 3 puesto que las primeras tres columnas son informativas\n",
      "    dimensiones=(columnas-3)\n",
      "    #N\u00famero de elementos= n\u00famero de filas menos 1 puesto que la primera fila indica lo que contiene cada columna\n",
      "    N=filas-1\n",
      "    #Arreglos y matriz con datos organizados\n",
      "    codigo_dato=[]\n",
      "    municipio=[]\n",
      "    departamento=[]\n",
      "    datos=zeros((N,dimensiones)) \n",
      "    i=0\n",
      "    for f in archivo:\n",
      "        if(i!=0):         \n",
      "            j=0\n",
      "            for c in f:\n",
      "                if(j==0):\n",
      "                    #Guardo c\u00f3digo del municipio\n",
      "                    codigo_dato.append(c)\n",
      "                elif(j==1):\n",
      "                    #Guardo nombre del municipio\n",
      "                    municipio.append(c)\n",
      "                elif(j==2):\n",
      "                    #Guardo nombre del departamento\n",
      "                    departamento.append(c)\n",
      "                else:\n",
      "                    #Guardo datos\n",
      "                    if (c=='NA' or c=='#DIV/0!'):\n",
      "                        datos[i-1,j-3]=0\n",
      "                    else:\n",
      "                        datos[i-1,j-3]=c\n",
      "                j+=1\n",
      "        i+=1"
     ],
     "language": "python",
     "metadata": {},
     "outputs": [],
     "prompt_number": 43
    },
    {
     "cell_type": "code",
     "collapsed": false,
     "input": [
      "#Se arregla la matriz para que tenga \u00fanicamente los valores de tasas de homicidio por a\u00f1o,\n",
      "#reduciendo as\u00ed las dimensiones a un tercio quitando la informaci\u00f3n redundante\n",
      "numero_anios=dimensiones/3\n",
      "tasas=zeros((N,numero_anios))\n",
      "for i in range(N):\n",
      "    for j in range(numero_anios):\n",
      "        tasas[i,j]=datos[i,(j*3)+2]\n",
      "shp=shape(tasas)\n",
      "M=shp[0]\n",
      "dimensiones=shp[1]"
     ],
     "language": "python",
     "metadata": {},
     "outputs": [],
     "prompt_number": 44
    },
    {
     "cell_type": "code",
     "collapsed": false,
     "input": [
      "#Se define el n\u00famero de clusters\n",
      "numero_clusters=5\n",
      "\n",
      "#Asignaci\u00f3n aleatoria de cada valor a un cluster \n",
      "a=zeros(M)\n",
      "for i in range(M):\n",
      "    a[i]=random.randint(1,numero_clusters+1,1)\n",
      "\n",
      "#Se separan los puntos por clusters\n",
      "clusters=zeros((M,numero_clusters))\n",
      "for i in range(M):\n",
      "    for j in range(numero_clusters):\n",
      "        if(a[i]==j+1):\n",
      "            clusters[i,j]=i+1\n",
      "#Se genera una matriz que guarda las coordenadas de los puntos en cada cluster\n",
      "#Las columnas son las dimensiones en cada cluster\n",
      "cluster_cluster=zeros((M,numero_clusters*dimensiones))\n",
      "for i in range(1,M+1):\n",
      "    for j in range(1,numero_clusters+1): \n",
      "        if(clusters[(i)-1,(j)-1]!=0):\n",
      "            for k in range(1,dimensiones+1):\n",
      "                cluster_cluster[(i)-1,(((j*dimensiones)-(dimensiones-k))-1)]=tasas[(clusters[(i)-1,(j)-1])-1,(k)-1]"
     ],
     "language": "python",
     "metadata": {},
     "outputs": [],
     "prompt_number": 47
    },
    {
     "cell_type": "code",
     "collapsed": false,
     "input": [
      "#Se itera mientras los centros cambien\n",
      "centros=zeros((numero_clusters,dimensiones))\n",
      "centros_nuevos=zeros((numero_clusters,dimensiones))\n",
      "c=zeros((numero_clusters,dimensiones))\n",
      "condicion=0\n",
      "\n",
      "while(condicion==0):\n",
      "    #Se halla el promedio de cada cluster\n",
      "    promedios=zeros((1,numero_clusters*dimensiones))\n",
      "    for i in range(numero_clusters*dimensiones):\n",
      "        divisor=0\n",
      "        for j in range(M):\n",
      "            if(cluster_cluster[j,i]!=0):\n",
      "                promedios[0,i]=promedios[0,i]+cluster_cluster[j,i]\n",
      "                divisor=divisor+1\n",
      "        promedios[0,i]=promedios[0,i]/divisor\n",
      "        \n",
      "    #Se reemplazan los centroides por los promedios\n",
      "    for i in range(numero_clusters+1):\n",
      "        for j in range(dimensiones+1):\n",
      "            centros_nuevos[i-1,j-1]=promedios[0,((i*dimensiones)-(dimensiones-j))-1]\n",
      "    centros=centros_nuevos\n",
      "\n",
      "    #Se hallan las distancias de los puntos a cada centroide\n",
      "    distancia_cuadrada=zeros((M,numero_clusters))\n",
      "    for i in range(numero_clusters):\n",
      "        for j in range(M):\n",
      "            for k in range(dimensiones):\n",
      "                distancia_cuadrada[j,i]+=(tasas[j,k]-centros[i,k])**2\n",
      "    distancia=sqrt(distancia_cuadrada)\n",
      "    \n",
      "    #Se separan los puntos por clusters\n",
      "    clusters=zeros((M,numero_clusters))\n",
      "    for i in range(M):\n",
      "        for j in range(numero_clusters-1):\n",
      "            if(distancia[i,j]==min(distancia[i,:])):\n",
      "                clusters[i,j]=i+1 \n",
      "\n",
      "    #Se genera una matriz que guarda las coordenadas de los puntos en cada cluster\n",
      "    #Las columnas son las coordenadas en cada cluster\n",
      "    cluster_cluster=zeros((M,numero_clusters*dimensiones))\n",
      "    for i in range(1,M+1):\n",
      "        for j in range(1,numero_clusters+1):\n",
      "            if(clusters[(i)-1,(j)-1]!=0):\n",
      "                for k in range(1,dimensiones+1):\n",
      "                    cluster_cluster[(i)-1,(((j*dimensiones)-(dimensiones-k))-1)]=tasas[(clusters[(i)-1,(j)-1])-1,(k)-1]\n",
      "        \n",
      "    #Se comparan los centros nuevos con los anteriores para saber si cambiaron\n",
      "    #Si cambian se sigue iterando, si no cambian se deja de iterar\n",
      "    for i in range(numero_clusters):\n",
      "        for j in range(dimensiones):\n",
      "            if(centros[i,j]==centros_nuevos[i,j]):\n",
      "                c[i,j]=1\n",
      "            else:\n",
      "                c[i,j]=0\n",
      "    if(sum(c)==numero_clusters*dimensiones):\n",
      "        condicion=1\n"
     ],
     "language": "python",
     "metadata": {},
     "outputs": [
      {
       "ename": "KeyboardInterrupt",
       "evalue": "",
       "output_type": "pyerr",
       "traceback": [
        "\u001b[1;31m---------------------------------------------------------------------------\u001b[0m\n\u001b[1;31mKeyboardInterrupt\u001b[0m                         Traceback (most recent call last)",
        "\u001b[1;32m<ipython-input-49-d5cf38b8d12c>\u001b[0m in \u001b[0;36m<module>\u001b[1;34m()\u001b[0m\n\u001b[0;32m     27\u001b[0m         \u001b[1;32mfor\u001b[0m \u001b[0mj\u001b[0m \u001b[1;32min\u001b[0m \u001b[0mrange\u001b[0m\u001b[1;33m(\u001b[0m\u001b[0mM\u001b[0m\u001b[1;33m)\u001b[0m\u001b[1;33m:\u001b[0m\u001b[1;33m\u001b[0m\u001b[0m\n\u001b[0;32m     28\u001b[0m             \u001b[1;32mfor\u001b[0m \u001b[0mk\u001b[0m \u001b[1;32min\u001b[0m \u001b[0mrange\u001b[0m\u001b[1;33m(\u001b[0m\u001b[0mdimensiones\u001b[0m\u001b[1;33m)\u001b[0m\u001b[1;33m:\u001b[0m\u001b[1;33m\u001b[0m\u001b[0m\n\u001b[1;32m---> 29\u001b[1;33m                 \u001b[0mdistancia_cuadrada\u001b[0m\u001b[1;33m[\u001b[0m\u001b[0mj\u001b[0m\u001b[1;33m,\u001b[0m\u001b[0mi\u001b[0m\u001b[1;33m]\u001b[0m\u001b[1;33m+=\u001b[0m\u001b[1;33m(\u001b[0m\u001b[0mtasas\u001b[0m\u001b[1;33m[\u001b[0m\u001b[0mj\u001b[0m\u001b[1;33m,\u001b[0m\u001b[0mk\u001b[0m\u001b[1;33m]\u001b[0m\u001b[1;33m-\u001b[0m\u001b[0mcentros\u001b[0m\u001b[1;33m[\u001b[0m\u001b[0mi\u001b[0m\u001b[1;33m,\u001b[0m\u001b[0mk\u001b[0m\u001b[1;33m]\u001b[0m\u001b[1;33m)\u001b[0m\u001b[1;33m**\u001b[0m\u001b[1;36m2\u001b[0m\u001b[1;33m\u001b[0m\u001b[0m\n\u001b[0m\u001b[0;32m     30\u001b[0m     \u001b[0mdistancia\u001b[0m\u001b[1;33m=\u001b[0m\u001b[0msqrt\u001b[0m\u001b[1;33m(\u001b[0m\u001b[0mdistancia_cuadrada\u001b[0m\u001b[1;33m)\u001b[0m\u001b[1;33m\u001b[0m\u001b[0m\n\u001b[0;32m     31\u001b[0m \u001b[1;33m\u001b[0m\u001b[0m\n",
        "\u001b[1;31mKeyboardInterrupt\u001b[0m: "
       ]
      }
     ],
     "prompt_number": 49
    },
    {
     "cell_type": "code",
     "collapsed": false,
     "input": [
      "print clusters"
     ],
     "language": "python",
     "metadata": {},
     "outputs": []
    },
    {
     "cell_type": "code",
     "collapsed": false,
     "input": [
      "#Se realizaron pruebas de K-means clustering para 2, 3, 4 y 5 clusters\n",
      "#y no se encontr\u00f3 una convergencia en un tiempo razonable, por lo que\n",
      "#se concluye que no se pueden agrupar las tasas de asesinatos en Colombia\n",
      "#durante estos a\u00f1os en tan pocos grupos"
     ],
     "language": "python",
     "metadata": {},
     "outputs": []
    },
    {
     "cell_type": "code",
     "collapsed": false,
     "input": [],
     "language": "python",
     "metadata": {},
     "outputs": []
    }
   ],
   "metadata": {}
  }
 ]
}